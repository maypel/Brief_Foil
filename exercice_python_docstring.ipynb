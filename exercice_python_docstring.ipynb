{
  "nbformat": 4,
  "nbformat_minor": 0,
  "metadata": {
    "colab": {
      "name": "exercice_python_docstring.ipynb",
      "provenance": [],
      "collapsed_sections": [],
      "authorship_tag": "ABX9TyPGCilsbSpqAkFc9HFH5CFX",
      "include_colab_link": true
    },
    "kernelspec": {
      "name": "python3",
      "display_name": "Python 3"
    },
    "language_info": {
      "name": "python"
    }
  },
  "cells": [
    {
      "cell_type": "markdown",
      "metadata": {
        "id": "view-in-github",
        "colab_type": "text"
      },
      "source": [
        "<a href=\"https://colab.research.google.com/github/maypel/Brief_Foil/blob/main/exercice_python_docstring.ipynb\" target=\"_parent\"><img src=\"https://colab.research.google.com/assets/colab-badge.svg\" alt=\"Open In Colab\"/></a>"
      ]
    },
    {
      "cell_type": "code",
      "execution_count": null,
      "metadata": {
        "colab": {
          "base_uri": "https://localhost:8080/"
        },
        "id": "OM9pMwfgq9S3",
        "outputId": "a28c4341-e510-4c3a-a3c0-13880e2dccb2"
      },
      "outputs": [
        {
          "output_type": "stream",
          "name": "stdout",
          "text": [
            "None\n"
          ]
        }
      ],
      "source": [
        "import os\n",
        "\n",
        "enviro = os.environ.get(\"code\")\n",
        "\n",
        "print(enviro)"
      ]
    },
    {
      "cell_type": "code",
      "source": [
        "import time\n",
        "\n",
        "start_time = time.time()\n",
        "\n",
        "_ = [i*2 for i in range(9999999)]\n",
        "\n",
        "print(\"--- %s seconds ---\" % (time.time() - start_time))"
      ],
      "metadata": {
        "colab": {
          "base_uri": "https://localhost:8080/"
        },
        "id": "K1oeKkkHrJlq",
        "outputId": "78d8c616-9479-4992-cd6d-427ca45f9374"
      },
      "execution_count": null,
      "outputs": [
        {
          "output_type": "stream",
          "name": "stdout",
          "text": [
            "--- 1.1088240146636963 seconds ---\n"
          ]
        }
      ]
    },
    {
      "cell_type": "code",
      "source": [
        "mot = \"Udemy\"\n",
        "pop = \"\".join(reversed(mot)).capitalize()\n",
        "pop"
      ],
      "metadata": {
        "colab": {
          "base_uri": "https://localhost:8080/",
          "height": 36
        },
        "id": "haqCtxSetCzd",
        "outputId": "e997e109-4b44-4483-e626-eb54d1278591"
      },
      "execution_count": null,
      "outputs": [
        {
          "output_type": "execute_result",
          "data": {
            "application/vnd.google.colaboratory.intrinsic+json": {
              "type": "string"
            },
            "text/plain": [
              "'Ymedu'"
            ]
          },
          "metadata": {},
          "execution_count": 12
        }
      ]
    },
    {
      "cell_type": "code",
      "source": [
        "In [1]: \n",
        "   ...:     rseq = \"\" \n",
        "   ...:     for char in seq: \n",
        "   ...:         rseq = char + rseq \n",
        "   ...:     return rseq \n",
        "   ...:                                                                        \n"
      ],
      "metadata": {
        "id": "QggdZJoL8Zx1"
      },
      "execution_count": null,
      "outputs": []
    },
    {
      "cell_type": "code",
      "source": [
        "def miror(seq):\n",
        "  rseq = \"\" \n",
        "  for char in seq: \n",
        "    rseq = char + rseq\n",
        "  return rseq\n",
        "\n",
        "miror(\"azerty\")"
      ],
      "metadata": {
        "colab": {
          "base_uri": "https://localhost:8080/",
          "height": 36
        },
        "id": "y83deMHQ9IOo",
        "outputId": "71592e77-d58c-48fb-a22e-a88fad974af2"
      },
      "execution_count": null,
      "outputs": [
        {
          "output_type": "execute_result",
          "data": {
            "application/vnd.google.colaboratory.intrinsic+json": {
              "type": "string"
            },
            "text/plain": [
              "'ytreza'"
            ]
          },
          "metadata": {},
          "execution_count": 8
        }
      ]
    },
    {
      "cell_type": "code",
      "source": [
        "from random import randint\n",
        "\n",
        "def shuffle(mot):\n",
        "  new_mot = \"\"\n",
        "  while len(mot)>0:\n",
        "    random_nombre = randint(0, len(mot)-1)\n",
        "    new_mot += mot[random_nombre]\n",
        "    mot = mot[:random_nombre] + mot[random_nombre +1:]\n",
        "  return new_mot\n",
        "\n",
        "tom = \"bonjour\"\n",
        "shuffle(tom)\n"
      ],
      "metadata": {
        "colab": {
          "base_uri": "https://localhost:8080/",
          "height": 36
        },
        "id": "KGpNdgtX9dh_",
        "outputId": "12a638ae-4f5f-4deb-ad29-80375491d46d"
      },
      "execution_count": null,
      "outputs": [
        {
          "output_type": "execute_result",
          "data": {
            "application/vnd.google.colaboratory.intrinsic+json": {
              "type": "string"
            },
            "text/plain": [
              "'ujnboro'"
            ]
          },
          "metadata": {},
          "execution_count": 16
        }
      ]
    },
    {
      "cell_type": "code",
      "source": [
        "import random\n",
        "\n",
        "mot = \"bonjour\"\n",
        "tom = list(mot)\n",
        "\n",
        "random.shuffle(tom)\n",
        "\n",
        "solution = \"\".join(tom).capitalize()\n",
        "solution"
      ],
      "metadata": {
        "colab": {
          "base_uri": "https://localhost:8080/",
          "height": 36
        },
        "id": "z_dkSCYVBART",
        "outputId": "51587f5b-5bc2-485e-cbed-86f2f51f0185"
      },
      "execution_count": null,
      "outputs": [
        {
          "output_type": "execute_result",
          "data": {
            "application/vnd.google.colaboratory.intrinsic+json": {
              "type": "string"
            },
            "text/plain": [
              "'Ubnrojo'"
            ]
          },
          "metadata": {},
          "execution_count": 20
        }
      ]
    },
    {
      "cell_type": "code",
      "source": [
        "a = 20\n",
        "print(\"Vous êtes majeur!\") if a > 18 else 0\n",
        "   "
      ],
      "metadata": {
        "colab": {
          "base_uri": "https://localhost:8080/"
        },
        "id": "XJtc4UDhFbQI",
        "outputId": "62f6077f-84ff-45e2-e7e2-698d72aa5a97"
      },
      "execution_count": null,
      "outputs": [
        {
          "output_type": "stream",
          "name": "stdout",
          "text": [
            "Vous êtes majeur!\n"
          ]
        }
      ]
    },
    {
      "cell_type": "code",
      "source": [
        "agechien = int(input(\"entrez l'âge d'un chien ?: \"))\n",
        "agehumain = 0\n",
        "\n",
        "if agechien < 0:\n",
        "  print(\"vous devez entrer un âge positif.\")\n",
        "elif agechien > 2:\n",
        "  agehumain = 21 + (agechien - 2) * 4\n",
        "  print(f\"l'age du chien en âge humain est {agehumain}\")\n",
        "else:\n",
        "  agehumain = agechien * 10.5\n",
        "  print(f\"l'age du chien en âge humain est {agehumain}\")\n"
      ],
      "metadata": {
        "id": "5Ig-U2R7Ms2t",
        "colab": {
          "base_uri": "https://localhost:8080/"
        },
        "outputId": "f656b11e-f98d-4f78-a141-f0f3b9379886"
      },
      "execution_count": 4,
      "outputs": [
        {
          "output_type": "stream",
          "name": "stdout",
          "text": [
            "entrez l'âge d'un chien ?: 10\n",
            "l'age du chien en âge humain est 53\n"
          ]
        }
      ]
    },
    {
      "cell_type": "code",
      "source": [
        "a = 4\n",
        "b = 6\n",
        "c = 2\n",
        "\n",
        "liste_variable = [a, b, c]\n",
        "liste_trie = []\n",
        "liste_trie.append(min(liste_variable))\n",
        "liste_trie.append(max(liste_variable) - min(liste_variable))\n",
        "liste_trie.append(max(liste_variable))\n",
        "\n",
        "print(liste_trie)\n"
      ],
      "metadata": {
        "colab": {
          "base_uri": "https://localhost:8080/"
        },
        "id": "KifPacqQ81R4",
        "outputId": "51ffca35-206b-44a3-8695-fb132dd0b0d9"
      },
      "execution_count": 13,
      "outputs": [
        {
          "output_type": "stream",
          "name": "stdout",
          "text": [
            "[2, 4, 6]\n"
          ]
        }
      ]
    },
    {
      "cell_type": "code",
      "source": [
        "a = 4\n",
        "b = 6\n",
        "c = 2\n",
        "\n",
        "liste_variable = [a, b, c]\n",
        "mine = min(liste_variable)\n",
        "reste = max(liste_variable) - min(liste_variable)\n",
        "maxe = max(liste_variable)\n",
        "\n",
        "print(f\"Les nombres deans l'ordre sont {mine}, {reste} et {maxe}\")\n"
      ],
      "metadata": {
        "colab": {
          "base_uri": "https://localhost:8080/"
        },
        "id": "YK7F_IndDyO5",
        "outputId": "469f6e3f-d60a-4f8c-9827-b576f0f54cb3"
      },
      "execution_count": 15,
      "outputs": [
        {
          "output_type": "stream",
          "name": "stdout",
          "text": [
            "Les nombres deans l'ordre sont 2, 4 et 6\n"
          ]
        }
      ]
    },
    {
      "cell_type": "code",
      "source": [
        "mot = \"Python\"\n",
        "\n",
        "for i in range(len(mot)):\n",
        "\tprint(i)"
      ],
      "metadata": {
        "colab": {
          "base_uri": "https://localhost:8080/"
        },
        "id": "TVULHvoWJRCJ",
        "outputId": "3b7f5afb-d167-47f2-d096-2779bbcefccb"
      },
      "execution_count": 18,
      "outputs": [
        {
          "output_type": "stream",
          "name": "stdout",
          "text": [
            "0\n",
            "1\n",
            "2\n",
            "3\n",
            "4\n",
            "5\n"
          ]
        }
      ]
    },
    {
      "cell_type": "code",
      "source": [
        "def multiplicateur_mot(mot, mult=5):\n",
        "\treturn mot * mult\n",
        "\n",
        "mot_multiplie = multiplicateur_mot(mot=\"Bonjour\")\n",
        "print(mot_multiplie)"
      ],
      "metadata": {
        "colab": {
          "base_uri": "https://localhost:8080/"
        },
        "id": "K9CAy5ppXiIj",
        "outputId": "2e326509-dcbd-4833-b40d-9807caccb713"
      },
      "execution_count": 20,
      "outputs": [
        {
          "output_type": "stream",
          "name": "stdout",
          "text": [
            "BonjourBonjourBonjourBonjourBonjour\n"
          ]
        }
      ]
    },
    {
      "cell_type": "code",
      "source": [
        "nombre = 7\n",
        "multi = 10\n",
        "\n",
        "for i in range(multi + 1):\n",
        "  print(f\"{i} * {nombre} = {i*nombre}\")"
      ],
      "metadata": {
        "colab": {
          "base_uri": "https://localhost:8080/"
        },
        "id": "ThdjrWgxbR8w",
        "outputId": "1c90d47d-f066-4def-f332-e384dc669072"
      },
      "execution_count": 23,
      "outputs": [
        {
          "output_type": "stream",
          "name": "stdout",
          "text": [
            "0 * 7 = 0\n",
            "1 * 7 = 7\n",
            "2 * 7 = 14\n",
            "3 * 7 = 21\n",
            "4 * 7 = 28\n",
            "5 * 7 = 35\n",
            "6 * 7 = 42\n",
            "7 * 7 = 49\n",
            "8 * 7 = 56\n",
            "9 * 7 = 63\n",
            "10 * 7 = 70\n"
          ]
        }
      ]
    },
    {
      "cell_type": "code",
      "source": [
        "liste = [\"Pierre\", \"Paul\", \"Marie\"]\n",
        "i= 0\n",
        "\n",
        "for v in liste:\n",
        "  print(i, v)\n",
        "  i +=1\n",
        "  \n"
      ],
      "metadata": {
        "colab": {
          "base_uri": "https://localhost:8080/"
        },
        "id": "ocyU2i-6eNG4",
        "outputId": "1489772d-8b14-4ec9-e2dc-fe1f6d8e1fe7"
      },
      "execution_count": 1,
      "outputs": [
        {
          "output_type": "stream",
          "name": "stdout",
          "text": [
            "0 Pierre\n",
            "1 Paul\n",
            "2 Marie\n"
          ]
        }
      ]
    },
    {
      "cell_type": "code",
      "source": [
        "liste = [\"Pierre\", \"Paul\", \"Marie\"]\n",
        "i= 0\n",
        "\n",
        "for i, v in enumerate(liste):\n",
        "  print(i, v)\n",
        "  \n",
        "  \n"
      ],
      "metadata": {
        "colab": {
          "base_uri": "https://localhost:8080/"
        },
        "id": "TYHCvthO7M6t",
        "outputId": "1a711860-6ed0-4887-b60f-24ae720a781b"
      },
      "execution_count": 2,
      "outputs": [
        {
          "output_type": "stream",
          "name": "stdout",
          "text": [
            "0 Pierre\n",
            "1 Paul\n",
            "2 Marie\n"
          ]
        }
      ]
    },
    {
      "cell_type": "code",
      "source": [
        "nombres = range(50)\n",
        "nombres_pairs = []\n",
        "\n",
        "for i in nombres:\n",
        "    if i % 2 == 0:\n",
        "        nombres_pairs.append(i)\n",
        "        \n",
        "print(nombres_pairs)"
      ],
      "metadata": {
        "colab": {
          "base_uri": "https://localhost:8080/"
        },
        "id": "fhN_7STu7pIN",
        "outputId": "68f411ac-13a5-4629-b478-4b7a5973283b"
      },
      "execution_count": 3,
      "outputs": [
        {
          "output_type": "stream",
          "name": "stdout",
          "text": [
            "[0, 2, 4, 6, 8, 10, 12, 14, 16, 18, 20, 22, 24, 26, 28, 30, 32, 34, 36, 38, 40, 42, 44, 46, 48]\n"
          ]
        }
      ]
    },
    {
      "cell_type": "code",
      "source": [
        "nombres = range(50)\n",
        "liste = [i for i in nombres if i \n",
        "         % 2 ==0]\n",
        "\n",
        "print(liste)"
      ],
      "metadata": {
        "colab": {
          "base_uri": "https://localhost:8080/"
        },
        "id": "BB8nxULi8Y7H",
        "outputId": "cf779b77-0844-49f4-9362-efb956a235cc"
      },
      "execution_count": 13,
      "outputs": [
        {
          "output_type": "stream",
          "name": "stdout",
          "text": [
            "[0, 2, 4, 6, 8, 10, 12, 14, 16, 18, 20, 22, 24, 26, 28, 30, 32, 34, 36, 38, 40, 42, 44, 46, 48]\n"
          ]
        }
      ]
    },
    {
      "cell_type": "code",
      "source": [
        ""
      ],
      "metadata": {
        "id": "AzqE4VpZ9ahS"
      },
      "execution_count": null,
      "outputs": []
    }
  ]
}